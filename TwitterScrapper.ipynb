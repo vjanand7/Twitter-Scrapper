{
 "metadata": {
  "language_info": {
   "codemirror_mode": {
    "name": "ipython",
    "version": 3
   },
   "file_extension": ".py",
   "mimetype": "text/x-python",
   "name": "python",
   "nbconvert_exporter": "python",
   "pygments_lexer": "ipython3",
   "version": "3.8.5-final"
  },
  "orig_nbformat": 2,
  "kernelspec": {
   "name": "python3",
   "display_name": "Python 3.8.5 32-bit",
   "metadata": {
    "interpreter": {
     "hash": "9821d33339b970fa69a8996a420bbbc38284776b2b2e1c783bab4e604354c388"
    }
   }
  }
 },
 "nbformat": 4,
 "nbformat_minor": 2,
 "cells": [
  {
   "cell_type": "code",
   "execution_count": 5,
   "metadata": {},
   "outputs": [],
   "source": [
    "import twint\n",
    "import asyncio\n",
    "import nest_asyncio"
   ]
  },
  {
   "cell_type": "code",
   "execution_count": 6,
   "metadata": {
    "tags": [
     "outputPrepend"
    ]
   },
   "outputs": [
    {
     "output_type": "stream",
     "name": "stdout",
     "text": [
      " the #SnyderCut, so we leave you with one final pep talk: enjoy it.  #ZackSnydersJusticeLeague, Black Widow's release, the Pixar Draft, and more, on the latest @PostCredPod 🍿  Apple:  https://t.co/rnWo6PfBwe Spotify:  https://t.co/8Hqmrb8ZO7  https://t.co/4ToiHQ1ch8\n",
      "1370752862188408833 2021-03-14 02:05:24 +1100 <Alexromval> @ericksonRD14 @unfrikimas Si deciden hacerla creo que lo más lógico sería estrenar el Snyder Cut en cines (creo que Snyder se había mostrado de acuerdo con esto) y después ya estrenar una hipotética secuela en cines también.\n",
      "1370752844320677891 2021-03-14 02:05:20 +1100 <ihpocoubr> @WarnerPlayBR Warner sua linda, vai ter versão legendada do #SnyderCut?\n",
      "1370752836976447490 2021-03-14 02:05:18 +1100 <THEBATMANKI> @ayobobun @BatmanvSuperman @hbomax It is there is it's own continuity man of steel bvs and the Snyder cut   1984 has nothing it contradicts the first movie and  bvs / justice league\n",
      "1370752801236791301 2021-03-14 02:05:09 +1100 <DominikStola>  https://t.co/z2wkBg3yf7\n",
      "1370752640951410694 2021-03-14 02:04:31 +1100 <crfcila> @ViniciusABS13 O meu custou 899. Coisa mais rica. Bateria top. Câmera top. Rápido. Vou gastar esse dinheiro comendo pizza, sei lá.\n",
      "1370752640057929738 2021-03-14 02:04:31 +1100 <krish_bhojwani> @SpiderBat57 I recommend checking it out. It's pretty great. imo.\n",
      "1370752627282038786 2021-03-14 02:04:28 +1100 <Binged_> We decoded the latest #SnyderCut teasers to unravel key plot points of the epic film!!  Find out! 👇  #ZackSnydersJusticeLeague #HBOMax @hbomax    https://t.co/Fn35908l50\n",
      "1370752602376404992 2021-03-14 02:04:22 +1100 <xMelissaLaLax> Flawless 💎❤️  #SnyderCut #ZackSnydersJusticeLeague #RestoreTheSnyderVerse\n",
      "1370752584722608128 2021-03-14 02:04:18 +1100 <DaLastOnDaList> @hybridlion @JonPrieston1 @Ray__Porter @snydercut Wow!!!! 👏🏻  My Bad, Jealous was envy... 😅  @Ray__Porter 👀  #SnyderCut #ZackSnydersJusticeLeague\n",
      "1370752582075916288 2021-03-14 02:04:17 +1100 <Ubermensch1938> @EkowRedu @DarkKnightsFan @snydercut @ZackSnyder 99% what?\n",
      "1370752571741249536 2021-03-14 02:04:15 +1100 <myworkhere> Ok @snydercut fam - so what time does streaming start for #ZackSnydersJusticeLeague ? And what time does the streaming event start? I want to get my schedule ready today. I got the whole week off from work and I’m ready! #UsUnited #SnyderCut @ATT @hbomax\n",
      "1370752466665545740 2021-03-14 02:03:50 +1100 <FathachFir> @shaun_vids I think they call that a Snyder Cut\n",
      "1370752459182764036 2021-03-14 02:03:48 +1100 <GODOT_23> Ω #darkseid #snydercut #zacksnydersjusticeleague  https://t.co/0UbfjRRthP\n",
      "1370752428778295297 2021-03-14 02:03:41 +1100 <Monis75807827> @SadMeganGirls @seankmckeever Go $uck whedon's &lt;○&lt;k #SnyderCut #ZackSnydersJusticeLeague #RestoreTheSnyderVerse\n",
      "1370752383437836291 2021-03-14 02:03:30 +1100 <Shivonidas214> Congratulations to all the winners of the sweepstakes seeing the film today! But please don't leak or share the spoilers, the rest of us will join you all in the sun in 5 days! #SnyderCut\n",
      "1370752372293521408 2021-03-14 02:03:27 +1100 <SjSamJosephAnto> @rameshlaus @PuneethRajkumar Yes ivaru unmaiyil nala aaduvaaru . Interesting subject nadicha ivaru Top most actor aa varuvaaru kandipa 😎😍😍\n",
      "1370752355721830400 2021-03-14 02:03:23 +1100 <KingofMunsters1> @ItsDhanushka On a related topic, someone please explain to me WHY the Snyder Cut is in 4:3 and not wide-screen. I dont understand that decision.\n",
      "1370752351502491650 2021-03-14 02:03:22 +1100 <RavenWonder84> @rafasoeza Os caras vazaram a Snydercut no lugar de Tom e Jerry, e agem como se nada tivesse acontecido\n",
      "1370752304421482499 2021-03-14 02:03:11 +1100 <SyedMohHamza> @elmayimbe @phantomx1313 @RTSCBook @Sean_OConnell The Snyder Cut reshoots. Did they happen bro?\n",
      "1370752296842362889 2021-03-14 02:03:09 +1100 <JuliaoKenobi> Caio vaza logo e paga teus calotes!\n",
      "1370752244501602305 2021-03-14 02:02:57 +1100 <invisiblecircus> If the Snyder Cut is 4 and a half hours, who’s running that back twice the same day?   Also what time is it appearing on @hbomax ......\n",
      "1370752218761105414 2021-03-14 02:02:50 +1100 <AzuLa9713> #SnyderCut #ReleaseTheAyerCut #RestoreTheSnyderVerse  https://t.co/l4iGhwkTfd\n",
      "1370752215162490882 2021-03-14 02:02:50 +1100 <ImaninjaM> Snydercutters explaining to others the flash scene in BvS marathon for #ZackSnydersJusticeLeague #SnyderCut  https://t.co/evzlyhwtzL\n",
      "1370752212109037573 2021-03-14 02:02:49 +1100 <xMelissaLaLax> #SnyderCut #ZackSnydersJusticeLeague #RestoreTheSnyderVerse\n",
      "1370752154844073993 2021-03-14 02:02:35 +1100 <s_iddhesh_> @dilsstar @RequiemNocturn @HybridProphecy @AllThingsSnyder Then just tell them don't watch it this film is not for those anyway this film is made for those fans who eagarly waiting for the Snydercut and for those who made this possible\n",
      "1370752123948957699 2021-03-14 02:02:28 +1100 <HenrickPeres> @jurandirfilho Show de bola! Coisa que o SnyderCut JAMAIS conseguiria em tempos normais! :)\n",
      "1370752097461936130 2021-03-14 02:02:22 +1100 <Necridus> Várom már, hogy a #SnyderCut végre kikerüljön és ne mindenhol azzal kapcsolatos dolgokat lássunk. ...vagy hogy legyen oka a sok Snyder dicsőítésnek.\n",
      "1370752073789243393 2021-03-14 02:02:16 +1100 <phantomx1313> @ATT #RestoreTheSnyderVerse #ZackSnydersJusticeLeague #SnyderCut  https://t.co/fQsQcY0OuD\n",
      "1370752028721487877 2021-03-14 02:02:05 +1100 <DennyColt5> @AllThingsSnyder @mattreevesLA @boomborks @GreigfraserD Once again showing the intelligence level of a #SnyderCut fanboy.\n",
      "1370752021557608448 2021-03-14 02:02:03 +1100 <DinamicaFriki> - El mismo jueves, estará a la venta Batman V Superman UE IMAX  - También estará ya disponible la banda sonora de Junkie XL, (54 canciones 🤯)  - Y no olvidarse de lo que van hacer las redes ese día 😂  Y capaz se me escapa algo, una locura.  #SnyderCut (3/3)\n",
      "1370752017459712007 2021-03-14 02:02:02 +1100 <DinamicaFriki> A 5 días para el evento del año, pero antes:  - Se dice que habrá un trailer final.  - Mañana, saldrian más reacciones.  - A lo largo de estos dias saldrán entrevistas a Zack y a Deborah, parte de la promoción.  - El lunes, Premiere virtual, con el cast? (🤯)   (1/3) #SnyderCut\n",
      "1370751975432720385 2021-03-14 02:01:52 +1100 <goldenkatee> @snydercut @JerrAntonP\n",
      "1370751954440294402 2021-03-14 02:01:47 +1100 <nickfarina> @cavillclarke Eh, fuck em. They lost. Let them say what they want as they circle the toilet bowl. 🤷🏻‍♂️  #RestoreTheSnyderVerse #SnyderCut\n",
      "1370751909489954822 2021-03-14 02:01:37 +1100 <Cris_Arriagada> #SnyderCut #ZackSnydersJusticeLeague #UsUnited #AFSP This 👇🏻\n",
      "1370751869711220738 2021-03-14 02:01:27 +1100 <ContAssistindo> @DisneyPlusBR posso gastar os meus 10 pontos no Olaf? ai eu teria 10 Olafs\n",
      "1370751843891052554 2021-03-14 02:01:21 +1100 <HamzaIftkhar2> @snydercut @DCComics Hbo go release date in Asia\n",
      "1370751830188244994 2021-03-14 02:01:18 +1100 <KowalcikK> Today i had a great time on the sportsfield I told one of my friends that #AlitaBattleAngel can be viewed Sunday on PRO7 and another friend who stood by said that he was looking forward to watch the Movie and also the #SnyderCut  ..that was a happy day for me  #WatchAlita #Alita\n",
      "1370751810919661569 2021-03-14 02:01:13 +1100 <xMelissaLaLax> #SnyderCut #ZackSnydersJusticeLeague\n",
      "1370751754221072392 2021-03-14 02:01:00 +1100 <Batvey> 5 DAYS  #ZackSnydersJusticeLeague #SnyderCut  https://t.co/Czl0DBR3WR\n",
      "1370751734075813888 2021-03-14 02:00:55 +1100 <_BielRosa> @WarnerPlayBR solta o trailer dublado do Snyder Cut aí, por favor. 🙏🏾🖤\n",
      "1370751655575232512 2021-03-14 02:00:36 +1100 <ContAssistindo> @dcabove Esse ano não terá a casa de vidro, mas pode ocorrer uma adição ao programa de um novo participante caso Caio saia ou um novo paredão falso pra compensa uma semana\n",
      "1370751594401128450 2021-03-14 02:00:22 +1100 <JasonMomoaNews> Today’s Shirtless Saturday is Jason Momoa as Aquaman. 🔱🔥🔱 Will you be watching Zack Snyder’s Justice League next week? @snydercut #JasonMomoa  https://t.co/Ux55hpfFKo\n",
      "1370751527036588035 2021-03-14 02:00:06 +1100 <kaduuzao> @Galv_ss foi achado no lixo\n",
      "1370751508581658625 2021-03-14 02:00:01 +1100 <Footaction> The King of the Seven Seas is here! Designed by @MattTaylorDraws, The #SnyderCut Justice League \"Aquaman\" t-shirt is available now!  https://t.co/39wCdDkXjx  Only at #Footaction. Get ready for the @snydercut on March 18th on @hbomax. #AFSP  https://t.co/kMhGcbrfQj\n",
      "1370751371906011136 2021-03-14 01:59:29 +1100 <peliculaspapan> A ver la semana que viene estrenan el SnyderCut que pensamos que va a ser #SnyderCut\n",
      "1370751370513420293 2021-03-14 01:59:28 +1100 <sidhaarthd> Hey @hbomax this youtube channel is apparently uploading Zack Snyder's Justice League leaks. Please look into this ASAP. @HBOMaxHelp @HBOAsia #SnyderCut  https://t.co/5932YGB5wC\n",
      "1370751355929911297 2021-03-14 01:59:25 +1100 <crfcila> Ñ sei se minha alma é pobre dms. Mas eu nunca cogitei dar mais de 5 mil reais num telefone. Msm tendo dinheiro guardado pra isso. Pow mano. Eu ando de ônibus, mal uso o Instagram, q pra mim seria a única vantagem do dito cujo da maçã. Não rola.\n",
      "1370751353648148491 2021-03-14 01:59:24 +1100 <Monis75807827> #SnyderCut #ZackSnydersJusticeLeague #RestoreTheSnyderVerse\n",
      "1370751334828363778 2021-03-14 01:59:20 +1100 <chainriser> Joker 😎😎😎 #Darkseid #JusticeLeagueSnyderCut #Steppenwolf #SnyderCut #JusticeLeague #ZackSnydersJusticeLeage #UsUnited Batman #Joker #jokermovie  https://t.co/60wwvpHIOC\n",
      "1370751329145122818 2021-03-14 01:59:18 +1100 <RTSnyderCut> SHOUT OUT TO THIS COLLECTION OF SUPERHEROES!  Titi, Jaimichi and Uncle Mario Dallas &amp; Carlie Greer Pkk Chris Criscuolo Kieran Waters @BatfleckMovie Scott Sharp Miguel Collazo @WarWithSuperman Nick Barella Kai  THANK YOU!!!  WE ARE ALMOST THERE!!!   https://t.co/Q9cyhw2uvq  https://t.co/DndQ0dOjjO\n",
      "1370751308995657729 2021-03-14 01:59:14 +1100 <startstresse> @micha_eljackson amig vai assistir o snyder cut?\n",
      "1370751262870933504 2021-03-14 01:59:03 +1100 <Douglas_FelipeZ> @webputo agr vem o snyder cut, creio q vai ser melhor\n",
      "1370751233510756360 2021-03-14 01:58:56 +1100 <zluurkeaksz> @sztywnypatyyk Oni chcą, byś się przygotował na Snyder Cut.\n",
      "1370751217408827394 2021-03-14 01:58:52 +1100 <ladylestrange> I left the movie theater in 2017 feeling really mad and wishing things could be different and then I found out about Snyder Cut and prayed it would be released some day.  This day is finally here so of course is the Snyder Cut, please 😂\n",
      "1370751180989693954 2021-03-14 01:58:43 +1100 <iiurytorquato> e 5 diassssss para o Snydercut\n",
      "1370751148685205510 2021-03-14 01:58:35 +1100 <NoelSch139> @lafpxl LMAOOO\n",
      "1370751098185773056 2021-03-14 01:58:23 +1100 <jakeg33k> @sztywnypatyyk na hbo go pojawi się snyder cut u nas normalnie?\n",
      "1370751090606624768 2021-03-14 01:58:21 +1100 <DinamicaFriki> Esto. #SnyderCut\n",
      "1370751045878579205 2021-03-14 01:58:11 +1100 <kaduuzao> meu irmão de 10 anos falou que o cgi da leia em rogue one ficou melhor do que o luke em mandalorian, cancelei o nosso sangue\n",
      "1370751017168551937 2021-03-14 01:58:04 +1100 <seiberlin07> A días del estreno de #ZackSnydersJusticeLeague es obvio lo que se dará la guerra en internet entre quienes la amaron y la odiaron. Por mi parte ya me siento satisfecho por haber triunfado al poder ver el #SnyderCut y estoy seguro que no me decepcionará.  https://t.co/umYPV15ARK\n",
      "1370750951926140930 2021-03-14 01:57:48 +1100 <westwoodbullet> All I want for Friday is #JusticeLeagueSnyderCut @snydercut  https://t.co/MDyAY7tWyd\n",
      "1370750941587255298 2021-03-14 01:57:46 +1100 <MatthewMarkJr> #RestoreTheSnyderVerse #ReleaseTheSnyderCut #UsUnited #SnyderCut #ZackSnydersJusticeLeague #Batman #Superman #WonderWoman #Aquaman #TheFlash #Cyborg #Steppenwolf #Darkseid #DeSaad\n",
      "1370750934431772675 2021-03-14 01:57:44 +1100 <CosmoMcCoy28> @hybridlion @Ray__Porter @snydercut Siiiiiiiiiiiiiiccccccccckkkkk! 🤙🤙🤙\n",
      "1370750731993628673 2021-03-14 01:56:56 +1100 <GoodPostReilly> less than a week left before the Snyder Cut makes this website a war zone from the pits of hell  https://t.co/loRSeSTxy7\n",
      "1370750714708910080 2021-03-14 01:56:52 +1100 <horta_sama> o papai vai me fazer ver o Snyder Cut mas que caralho de asa  https://t.co/dq22v1udxl\n",
      "1370750684010790918 2021-03-14 01:56:45 +1100 <philbova> Your Daily Reminder That,  Darkseid Is.... #zachsnydersjusticeleague  #SnyderCut\n",
      "1370750681313779715 2021-03-14 01:56:44 +1100 <jeralduy> 2 am pa #SnyderCut for select PH fans so I watched the first ep of #LoveAlarm. Yeah, I'm late in the game. Ang flaw talaga ng KDrama ay ang second lead syndrome. Visible siya sa atin kasi sa local teleserye, ang gusto ng tao ang nagwawagi. Sa KDrama, baligtad.\n",
      "1370750620488065026 2021-03-14 01:56:29 +1100 <CaioLealDF> 5 dias para o #SnyderCut ❤ #ZackSnydersJusticeLeague #ReleaseTheSnyderCut\n",
      "1370750577504882700 2021-03-14 01:56:19 +1100 <NoelSch139> Me seeing Amber Turd in ZSJL  https://t.co/Ioz6avHLOU\n",
      "1370750542562091016 2021-03-14 01:56:11 +1100 <ContAssistindo> 🚨Caio está arrumando as malas dizendo que quer ir embora da casa #BBB21\n",
      "1370750425004003328 2021-03-14 01:55:43 +1100 <aglionion> @stardangs Gue beli nanti kalau justice league snyder cut udah keluar\n",
      "1370750409653039105 2021-03-14 01:55:39 +1100 <JPESportsMiner> @The_Seeadler Hmm, I didn't even know there was a Snyder Cut of BvS out.\n",
      "1370750371115773958 2021-03-14 01:55:30 +1100 <KaiSureshot> Snydercut on Crave TV?!? God bless you Canada\n",
      "1370750366644633601 2021-03-14 01:55:29 +1100 <ktquez> Zack Snyder's Justice League | Low Cost Trailer | The Komedivine  https://t.co/kALMZbLYXv via @YouTube  #SnyderCut #ZackSnydersJusticeLeague\n",
      "1370750349137567745 2021-03-14 01:55:25 +1100 <ClarkJoeDCEU> @DCEUnlimited Diamond absolutes! #ZackSnydersJusticeLeague #SnyderCut\n",
      "1370750346247688198 2021-03-14 01:55:24 +1100 <Andrea24976180> Everything Is Fine Now THANK YOU ❤️ 🙏🏻 #SnyderCut #SnyderCutWorldWide  https://t.co/NUzRSuFaIP\n",
      "1370750336802037761 2021-03-14 01:55:22 +1100 <electronicsheep> To think that we could have got the CBM version of an epic LOTR style trilogy. #ZackSnydersJusticeLeague #SnyderCut  https://t.co/QuU0svi6Fm\n",
      "1370750323539775495 2021-03-14 01:55:19 +1100 <venga_123> Justice league in 5 days can't wait #SnyderCut\n",
      "1370750283693879298 2021-03-14 01:55:09 +1100 <JesusAranda89> Solo faltan 5 días para el estreno de la #ZackSnydersJusticeLeague #SnyderCut y quería vestir la cuenta de gala para el estreno de la película  ¿Muchos nervios?  https://t.co/8dzZ9FzZcQ\n",
      "1370750279545683968 2021-03-14 01:55:08 +1100 <Mystique_3> @CorinneAlanna Which brand of oat milk do you think is the best?\n",
      "1370750275259105282 2021-03-14 01:55:07 +1100 <P_Dawg_> @agentbizzle Multiple sittings is the only way I can see myself getting through it.   The Ultimate cut of BvS felt like such an unending slog of a movie and I don't see the Snyder cut of Justice League managing to make those 4 hours fly by....\n",
      "1370750009478635521 2021-03-14 01:54:04 +1100 <for_snyder> @valiado69 @cmbodega @SotanoPlanet @snydercut @BimboEsp Yo iré a por mis Bony!!!!\n",
      "1370749941501542400 2021-03-14 01:53:48 +1100 <crfcila> Cada um gasta seus dinheiros como quer. Mas isso aqui é uma fic. Preciso apresentar o meu Android pra essa moça. Tô há 2 com o msm Cel e parece que tá novo, como um flash de tão rápido.\n",
      "1370749929052901380 2021-03-14 01:53:45 +1100 <SymphonyCarmen> Mirad lo emocionado que está Ray Fisher ❤️ Es más que una película. #SnyderCut #ZackSnydersJusticeLeague #RayFisher #IStandWithRayFisher\n",
      "1370749928658632705 2021-03-14 01:53:44 +1100 <MariaZamfiraP> I’m out!!  See you March 18✌🏼  #SnyderCut  #ZackSnydersJusticeLeague  https://t.co/yKw9HOoARj\n",
      "1370749900871200774 2021-03-14 01:53:38 +1100 <kryptoncaged> \"Time, time, time\" #ZackSnydersJusticeLeague #SnyderCut  https://t.co/ron2O19Fyf\n",
      "1370749845569474570 2021-03-14 01:53:25 +1100 <The_Seeadler> Here's the thing: the Snyder cut of Batman V. Superman is better than the theatrical version, but it's still not a particularly good film. I will watch #ZackSnydersJusticeLeague but I will be surprised (though delighted) if it turns out to be *a good film* in and of itself.\n",
      "1370749767773347841 2021-03-14 01:53:06 +1100 <hell_blazer_dc> Comparing us to terrorists is a bit much. #SnyderCut  #RestoreTheSnyderVerse  https://t.co/oxTB5R8LRW\n",
      "1370749753605173252 2021-03-14 01:53:03 +1100 <diariodeunjugon> Me pregunto cosas y quizás estoy equivocado. Pero ¿Y sí? #ZackSnydersJusticeLeague #SnyderCut #UsUnited  https://t.co/5xj8tO33KJ\n",
      "1370749748966158338 2021-03-14 01:53:02 +1100 <ayobobun> @THEBATMANKI @BatmanvSuperman @hbomax Neither is the Snyder cut\n",
      "1370749709665570822 2021-03-14 01:52:52 +1100 <_jacksonhicks_> With the #SnyderCut on the horizon, I’d also like to take a moment to share a link to the American Foundation for Suicide Prevention Donation.   We are never broken.  We are never alone.    https://t.co/Uq3XacrkOD\n",
      "1370749695228837898 2021-03-14 01:52:49 +1100 <BridgeGeekdoms> Because why not.. Right?  #RestoreTheSnyderVerse #SnyderCut #BatmanvSuperman #BvS  https://t.co/Px4v3mbbMH\n",
      "1370749593122578433 2021-03-14 01:52:24 +1100 <StevanManzo> #ZackSnydersJusticeLeague #RestoreTheSnyderverse   That's why the #SnyderCut stands out, even though it hasn't come out yet. Imagine what we'd think of the movie as a whole when it finally gets released.\n",
      "1370749577331154945 2021-03-14 01:52:21 +1100 <d__annyc> Someone give me a thousand bucks so i can buy a new tv for the #SnyderCut\n",
      "1370749483508711425 2021-03-14 01:51:58 +1100 <PrinceEntMedia> This @BritishGQ article has a fantastic take on the #SnyderCut   #ZackSnydersJusticeLeague #RestoreTheSnyderVerse @ZackSnyder @snydercut @hbomax\n",
      "1370749453175427077 2021-03-14 01:51:51 +1100 <electronicsheep> At this point it doesn't even matter if the #SnyderCut is any good. If you don't like it, keep that to yourself and let the people who like it enjoy it. It is much more than just another movie, it's a movement, an emotional victory and an unprecedented even in Hollywood history.  https://t.co/9zRacAuW5g\n",
      "1370749437853773824 2021-03-14 01:51:47 +1100 <charlieguadania> @DCEUnlimited Ya te imaginamos gritando, como ayer Ray, dentro de 1 rato  #RestoreTheSnyderVerse #SnyderCut  https://t.co/HUjiYd7ltG\n",
      "1370749234404761605 2021-03-14 01:50:59 +1100 <mikeevanteo> Thoroughly looking forward to the coming week.  18 Mar - #SnyderCut is released 19 Mar - F1 Drive to Survive Season 3 drops on Netflix  Bring it on.\n",
      "1370749034093293575 2021-03-14 01:50:11 +1100 <GiovanniDiaries> Semana que vem tem SnyderCut, Falcão e Soldado Invernal, na outra tem Godzilla vs. Kong E mês que vem Mortal Kombat ❤❤❤❤❤❤❤❤❤\n",
      "1370749032285540352 2021-03-14 01:50:11 +1100 <allwaysgoofy> -5 #SnyderCut\n",
      "1370748876211240961 2021-03-14 01:49:34 +1100 <dedestadniki> 5 dias pro #SnyderCut 🙏\n",
      "1370748871220068352 2021-03-14 01:49:32 +1100 <megalathea> 5 dias pro snyder cut e todo dia vou no Google play conferir se meu ingresso tá lá pois pessoas azaradas demais esperam sempre o lado ruim de tudo\n",
      "1370748831416074246 2021-03-14 01:49:23 +1100 <propagandaGPS> Vamos comemorar mais uma vez #SnyderCut  vai ter dublagem BR pra quem curte... com os dubladores originais\n",
      "1370748808842387460 2021-03-14 01:49:17 +1100 <inthewolfpack> @KajakTirinhas @matrixadm1 SnyderCut &gt;&gt;&gt;&gt;&gt;\n",
      "1370748743805460487 2021-03-14 01:49:02 +1100 <Cruzlantern23> @matrixadm1 Se prepara pro snydercut\n",
      "1370748707713523713 2021-03-14 01:48:53 +1100 <ivernverde> Eguas... queria\n",
      "1370748665661374464 2021-03-14 01:48:43 +1100 <c4llumb4ll> @stringofcharact What the Anti-Life Equation does to mfs\n",
      "1370748661228052483 2021-03-14 01:48:42 +1100 <Batman7955> @brookstweetz Snyder Cut\n",
      "1370748611760361472 2021-03-14 01:48:30 +1100 <GeneralSignifi2> New trailer today or nah? 🤔🤔 #SnyderCut #ZackSnydersJusticeLeague  https://t.co/0sxk9Kpl6N\n",
      "1370748542655078402 2021-03-14 01:48:14 +1100 <JustinR07583825> 5 Days Left  #ZackSnydersJusticeLeague                  #SnyderCut                          #UsUnited                           #RestoreTheSnyderVerse #VictorStone  #Cyborg  https://t.co/LPriZwupeT\n"
     ]
    },
    {
     "output_type": "execute_result",
     "data": {
      "text/plain": [
       "True"
      ]
     },
     "metadata": {},
     "execution_count": 6
    }
   ],
   "source": [
    "nest_asyncio.apply()\n",
    "c = twint.Config()\n",
    "c.Search  = \"snyderCut\"\n",
    "c.Limit = 1000\n",
    "c.Store_csv = True\n",
    "c.Output = \"../data/TweetData.csv\"\n",
    "c.Lang = \"en\"\n",
    "#c.Translate = True\n",
    "#c.TranslateDest = \"it\"\n",
    "twint.run.Search(c)\n",
    "\n",
    "\n",
    "loop = asyncio.get_event_loop()\n",
    "loop.is_running()"
   ]
  },
  {
   "cell_type": "code",
   "execution_count": null,
   "metadata": {},
   "outputs": [],
   "source": []
  }
 ]
}