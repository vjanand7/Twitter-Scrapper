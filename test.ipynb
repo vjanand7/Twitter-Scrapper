{
 "metadata": {
  "language_info": {
   "codemirror_mode": {
    "name": "ipython",
    "version": 3
   },
   "file_extension": ".py",
   "mimetype": "text/x-python",
   "name": "python",
   "nbconvert_exporter": "python",
   "pygments_lexer": "ipython3",
   "version": "3.8.5-final"
  },
  "orig_nbformat": 2,
  "kernelspec": {
   "name": "python3",
   "display_name": "Python 3.8.5 32-bit",
   "metadata": {
    "interpreter": {
     "hash": "9821d33339b970fa69a8996a420bbbc38284776b2b2e1c783bab4e604354c388"
    }
   }
  }
 },
 "nbformat": 4,
 "nbformat_minor": 2,
 "cells": [
  {
   "cell_type": "code",
   "execution_count": 1,
   "metadata": {},
   "outputs": [],
   "source": [
    "import pandas as pd"
   ]
  },
  {
   "cell_type": "code",
   "execution_count": 3,
   "metadata": {},
   "outputs": [],
   "source": [
    "df = pd.read_csv(\"C:\\\\Users\\\\vijayanandanand\\\\OneDrive - Swinburne University\\\\Drive\\\\Vijay\\\\Personal_Projects\\\\Twitter_DataScrapping\\\\data\\\\Archive\\\\TweetData.csv\")"
   ]
  },
  {
   "cell_type": "code",
   "execution_count": 4,
   "metadata": {},
   "outputs": [
    {
     "output_type": "execute_result",
     "data": {
      "text/plain": [
       "                    id      conversation_id  \\\n",
       "0  1373553805904732161  1373553805904732161   \n",
       "1  1373553789521649665  1373553789521649665   \n",
       "2  1373553787353231361  1373553787353231361   \n",
       "3  1373553783020515329  1373427705190965255   \n",
       "4  1373553781414096898  1373553781414096898   \n",
       "\n",
       "                                      created_at        date      time  \\\n",
       "0  2021-03-21 19:35:21 AUS Eastern Daylight Time  2021-03-21  19:35:21   \n",
       "1  2021-03-21 19:35:17 AUS Eastern Daylight Time  2021-03-21  19:35:17   \n",
       "2  2021-03-21 19:35:16 AUS Eastern Daylight Time  2021-03-21  19:35:16   \n",
       "3  2021-03-21 19:35:15 AUS Eastern Daylight Time  2021-03-21  19:35:15   \n",
       "4  2021-03-21 19:35:15 AUS Eastern Daylight Time  2021-03-21  19:35:15   \n",
       "\n",
       "   timezone              user_id      username                name place  ...  \\\n",
       "0      1100   882698382120280066        paorvv         Ana Montana   NaN  ...   \n",
       "1      1100              6536892      lxtrmstr                mxrk   NaN  ...   \n",
       "2      1100           2804161314   lanternfans       Green Lantern   NaN  ...   \n",
       "3      1100  1371186491297124352  foxcooper008  Fox Cooper 008 1/2   NaN  ...   \n",
       "4      1100   796264862984781825   dinomon1128        Dino Montoya   NaN  ...   \n",
       "\n",
       "  geo source user_rt_id user_rt retweet_id  \\\n",
       "0 NaN    NaN        NaN     NaN        NaN   \n",
       "1 NaN    NaN        NaN     NaN        NaN   \n",
       "2 NaN    NaN        NaN     NaN        NaN   \n",
       "3 NaN    NaN        NaN     NaN        NaN   \n",
       "4 NaN    NaN        NaN     NaN        NaN   \n",
       "\n",
       "                                            reply_to  retweet_date  translate  \\\n",
       "0                                                 []           NaN        NaN   \n",
       "1                                                 []           NaN        NaN   \n",
       "2                                                 []           NaN        NaN   \n",
       "3  [{'screen_name': 'AliBondGirl', 'name': 'Ali',...           NaN        NaN   \n",
       "4                                                 []           NaN        NaN   \n",
       "\n",
       "  trans_src trans_dest  \n",
       "0       NaN        NaN  \n",
       "1       NaN        NaN  \n",
       "2       NaN        NaN  \n",
       "3       NaN        NaN  \n",
       "4       NaN        NaN  \n",
       "\n",
       "[5 rows x 36 columns]"
      ],
      "text/html": "<div>\n<style scoped>\n    .dataframe tbody tr th:only-of-type {\n        vertical-align: middle;\n    }\n\n    .dataframe tbody tr th {\n        vertical-align: top;\n    }\n\n    .dataframe thead th {\n        text-align: right;\n    }\n</style>\n<table border=\"1\" class=\"dataframe\">\n  <thead>\n    <tr style=\"text-align: right;\">\n      <th></th>\n      <th>id</th>\n      <th>conversation_id</th>\n      <th>created_at</th>\n      <th>date</th>\n      <th>time</th>\n      <th>timezone</th>\n      <th>user_id</th>\n      <th>username</th>\n      <th>name</th>\n      <th>place</th>\n      <th>...</th>\n      <th>geo</th>\n      <th>source</th>\n      <th>user_rt_id</th>\n      <th>user_rt</th>\n      <th>retweet_id</th>\n      <th>reply_to</th>\n      <th>retweet_date</th>\n      <th>translate</th>\n      <th>trans_src</th>\n      <th>trans_dest</th>\n    </tr>\n  </thead>\n  <tbody>\n    <tr>\n      <th>0</th>\n      <td>1373553805904732161</td>\n      <td>1373553805904732161</td>\n      <td>2021-03-21 19:35:21 AUS Eastern Daylight Time</td>\n      <td>2021-03-21</td>\n      <td>19:35:21</td>\n      <td>1100</td>\n      <td>882698382120280066</td>\n      <td>paorvv</td>\n      <td>Ana Montana</td>\n      <td>NaN</td>\n      <td>...</td>\n      <td>NaN</td>\n      <td>NaN</td>\n      <td>NaN</td>\n      <td>NaN</td>\n      <td>NaN</td>\n      <td>[]</td>\n      <td>NaN</td>\n      <td>NaN</td>\n      <td>NaN</td>\n      <td>NaN</td>\n    </tr>\n    <tr>\n      <th>1</th>\n      <td>1373553789521649665</td>\n      <td>1373553789521649665</td>\n      <td>2021-03-21 19:35:17 AUS Eastern Daylight Time</td>\n      <td>2021-03-21</td>\n      <td>19:35:17</td>\n      <td>1100</td>\n      <td>6536892</td>\n      <td>lxtrmstr</td>\n      <td>mxrk</td>\n      <td>NaN</td>\n      <td>...</td>\n      <td>NaN</td>\n      <td>NaN</td>\n      <td>NaN</td>\n      <td>NaN</td>\n      <td>NaN</td>\n      <td>[]</td>\n      <td>NaN</td>\n      <td>NaN</td>\n      <td>NaN</td>\n      <td>NaN</td>\n    </tr>\n    <tr>\n      <th>2</th>\n      <td>1373553787353231361</td>\n      <td>1373553787353231361</td>\n      <td>2021-03-21 19:35:16 AUS Eastern Daylight Time</td>\n      <td>2021-03-21</td>\n      <td>19:35:16</td>\n      <td>1100</td>\n      <td>2804161314</td>\n      <td>lanternfans</td>\n      <td>Green Lantern</td>\n      <td>NaN</td>\n      <td>...</td>\n      <td>NaN</td>\n      <td>NaN</td>\n      <td>NaN</td>\n      <td>NaN</td>\n      <td>NaN</td>\n      <td>[]</td>\n      <td>NaN</td>\n      <td>NaN</td>\n      <td>NaN</td>\n      <td>NaN</td>\n    </tr>\n    <tr>\n      <th>3</th>\n      <td>1373553783020515329</td>\n      <td>1373427705190965255</td>\n      <td>2021-03-21 19:35:15 AUS Eastern Daylight Time</td>\n      <td>2021-03-21</td>\n      <td>19:35:15</td>\n      <td>1100</td>\n      <td>1371186491297124352</td>\n      <td>foxcooper008</td>\n      <td>Fox Cooper 008 1/2</td>\n      <td>NaN</td>\n      <td>...</td>\n      <td>NaN</td>\n      <td>NaN</td>\n      <td>NaN</td>\n      <td>NaN</td>\n      <td>NaN</td>\n      <td>[{'screen_name': 'AliBondGirl', 'name': 'Ali',...</td>\n      <td>NaN</td>\n      <td>NaN</td>\n      <td>NaN</td>\n      <td>NaN</td>\n    </tr>\n    <tr>\n      <th>4</th>\n      <td>1373553781414096898</td>\n      <td>1373553781414096898</td>\n      <td>2021-03-21 19:35:15 AUS Eastern Daylight Time</td>\n      <td>2021-03-21</td>\n      <td>19:35:15</td>\n      <td>1100</td>\n      <td>796264862984781825</td>\n      <td>dinomon1128</td>\n      <td>Dino Montoya</td>\n      <td>NaN</td>\n      <td>...</td>\n      <td>NaN</td>\n      <td>NaN</td>\n      <td>NaN</td>\n      <td>NaN</td>\n      <td>NaN</td>\n      <td>[]</td>\n      <td>NaN</td>\n      <td>NaN</td>\n      <td>NaN</td>\n      <td>NaN</td>\n    </tr>\n  </tbody>\n</table>\n<p>5 rows × 36 columns</p>\n</div>"
     },
     "metadata": {},
     "execution_count": 4
    }
   ],
   "source": [
    "df.head()"
   ]
  },
  {
   "cell_type": "code",
   "execution_count": 5,
   "metadata": {},
   "outputs": [
    {
     "output_type": "execute_result",
     "data": {
      "text/plain": [
       "(45400, 36)"
      ]
     },
     "metadata": {},
     "execution_count": 5
    }
   ],
   "source": [
    "df.shape"
   ]
  },
  {
   "cell_type": "code",
   "execution_count": 8,
   "metadata": {},
   "outputs": [],
   "source": [
    "df = df[df.language == 'en']"
   ]
  },
  {
   "cell_type": "code",
   "execution_count": 11,
   "metadata": {},
   "outputs": [
    {
     "output_type": "execute_result",
     "data": {
      "text/plain": [
       "(27528, 36)"
      ]
     },
     "metadata": {},
     "execution_count": 11
    }
   ],
   "source": [
    "df.shape"
   ]
  },
  {
   "cell_type": "code",
   "execution_count": null,
   "metadata": {},
   "outputs": [],
   "source": []
  }
 ]
}